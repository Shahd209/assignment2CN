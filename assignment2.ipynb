{
 "cells": [
  {
   "cell_type": "code",
   "execution_count": 1,
   "id": "7490600c-9c7e-4c11-bcfc-148bc16a0a20",
   "metadata": {
    "tags": []
   },
   "outputs": [
    {
     "name": "stdout",
     "output_type": "stream",
     "text": [
      "Updated Weights:\n",
      "w1: 0.14981763856120295\n",
      "w2: 0.19963527712240592\n",
      "w3: 0.2497881851977662\n",
      "w4: 0.29957637039553237\n",
      "w5: 0.35891647971788465\n",
      "w6: 0.4086661860762334\n",
      "w7: 0.5113012702387375\n",
      "w8: 0.5613701211079891\n"
     ]
    }
   ],
   "source": [
    "import numpy as np\n",
    "\n",
    "def sigmoid(x):\n",
    "    return 1 / (1 + np.exp(-x))\n",
    "\n",
    "def sigmoid_derivative(x):\n",
    "    return x * (1 - x)\n",
    "\n",
    "# Inputs\n",
    "x = np.array([0.05, 0.10])\n",
    "y = np.array([0.01, 0.99])\n",
    "\n",
    "# Initial Weights\n",
    "w = np.array([\n",
    "    [0.15, 0.20],  # Hidden Layer Weights\n",
    "    [0.25, 0.30],\n",
    "    [0.40, 0.45],  # Output Layer Weights\n",
    "    [0.50, 0.55]\n",
    "])\n",
    "\n",
    "# Biases\n",
    "b1, b2 = 0.35, 0.60\n",
    "\n",
    "# Forward Pass\n",
    "h1 = sigmoid(np.dot(w[0], x) + b1)\n",
    "h2 = sigmoid(np.dot(w[1], x) + b1)\n",
    "\n",
    "o1 = sigmoid(w[2][0] * h1 + w[2][1] * h2 + b2)\n",
    "o2 = sigmoid(w[3][0] * h1 + w[3][1] * h2 + b2)\n",
    "\n",
    "# Compute Error\n",
    "error = 0.5 * ((y[0] - o1) ** 2 + (y[1] - o2) ** 2)\n",
    "\n",
    "# Backpropagation (Updating Weights)\n",
    "learning_rate = 0.5\n",
    "\n",
    "d_o1 = (o1 - y[0]) * sigmoid_derivative(o1)\n",
    "d_o2 = (o2 - y[1]) * sigmoid_derivative(o2)\n",
    "\n",
    "w[2][0] -= learning_rate * d_o1 * h1\n",
    "w[2][1] -= learning_rate * d_o1 * h2\n",
    "w[3][0] -= learning_rate * d_o2 * h1\n",
    "w[3][1] -= learning_rate * d_o2 * h2\n",
    "\n",
    "# Backpropagation for Hidden Layer\n",
    "error_h1 = (d_o1 * w[2][0] + d_o2 * w[3][0]) * sigmoid_derivative(h1)\n",
    "error_h2 = (d_o1 * w[2][1] + d_o2 * w[3][1]) * sigmoid_derivative(h2)\n",
    "\n",
    "w[0][0] -= learning_rate * error_h1 * x[0]\n",
    "w[0][1] -= learning_rate * error_h1 * x[1]\n",
    "w[1][0] -= learning_rate * error_h2 * x[0]\n",
    "w[1][1] -= learning_rate * error_h2 * x[1]\n",
    "\n",
    "print(\"Updated Weights:\")\n",
    "print(f\"w1: {w[0][0]}\")\n",
    "print(f\"w2: {w[0][1]}\")\n",
    "print(f\"w3: {w[1][0]}\")\n",
    "print(f\"w4: {w[1][1]}\")\n",
    "print(f\"w5: {w[2][0]}\")\n",
    "print(f\"w6: {w[2][1]}\")\n",
    "print(f\"w7: {w[3][0]}\")\n",
    "print(f\"w8: {w[3][1]}\")\n"
   ]
  },
  {
   "cell_type": "code",
   "execution_count": null,
   "id": "723174bd-7cb7-4b49-a2f2-65e97781344f",
   "metadata": {},
   "outputs": [],
   "source": []
  }
 ],
 "metadata": {
  "kernelspec": {
   "display_name": "Python 3 (ipykernel)",
   "language": "python",
   "name": "python3"
  },
  "language_info": {
   "codemirror_mode": {
    "name": "ipython",
    "version": 3
   },
   "file_extension": ".py",
   "mimetype": "text/x-python",
   "name": "python",
   "nbconvert_exporter": "python",
   "pygments_lexer": "ipython3",
   "version": "3.11.5"
  }
 },
 "nbformat": 4,
 "nbformat_minor": 5
}
